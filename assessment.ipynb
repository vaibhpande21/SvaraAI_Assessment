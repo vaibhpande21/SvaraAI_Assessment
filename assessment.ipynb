{
 "cells": [
  {
   "cell_type": "code",
   "execution_count": 33,
   "id": "b8e6bced",
   "metadata": {},
   "outputs": [],
   "source": [
    "import numpy as np\n",
    "import matplotlib.pyplot as plt\n",
    "import seaborn as sns\n",
    "import pandas as pd\n",
    "\n",
    "import re\n",
    "import contractions\n",
    "import nltk\n",
    "import joblib\n",
    "from nltk.corpus import stopwords\n",
    "from nltk.tokenize import word_tokenize\n",
    "from nltk.stem import WordNetLemmatizer\n",
    "\n",
    "from sklearn.preprocessing import LabelEncoder\n",
    "\n",
    "from sklearn.model_selection import train_test_split\n",
    "from sklearn.feature_extraction.text import TfidfVectorizer\n",
    "from sklearn.linear_model import LogisticRegression\n",
    "from sklearn.metrics import accuracy_score, f1_score, classification_report\n",
    "\n",
    "from sklearn.feature_extraction.text import CountVectorizer, TfidfVectorizer"
   ]
  },
  {
   "cell_type": "code",
   "execution_count": 19,
   "id": "fba1ed72",
   "metadata": {},
   "outputs": [
    {
     "name": "stderr",
     "output_type": "stream",
     "text": [
      "[nltk_data] Downloading package punkt to /Users/phoenix/nltk_data...\n",
      "[nltk_data]   Package punkt is already up-to-date!\n",
      "[nltk_data] Downloading package stopwords to\n",
      "[nltk_data]     /Users/phoenix/nltk_data...\n",
      "[nltk_data]   Package stopwords is already up-to-date!\n",
      "[nltk_data] Downloading package wordnet to /Users/phoenix/nltk_data...\n",
      "[nltk_data]   Package wordnet is already up-to-date!\n"
     ]
    },
    {
     "data": {
      "text/plain": [
       "True"
      ]
     },
     "execution_count": 19,
     "metadata": {},
     "output_type": "execute_result"
    }
   ],
   "source": [
    "nltk.download('punkt')\n",
    "nltk.download('stopwords')\n",
    "nltk.download('wordnet')"
   ]
  },
  {
   "cell_type": "code",
   "execution_count": 38,
   "id": "d9b890a5",
   "metadata": {},
   "outputs": [
    {
     "data": {
      "text/html": [
       "<div>\n",
       "<style scoped>\n",
       "    .dataframe tbody tr th:only-of-type {\n",
       "        vertical-align: middle;\n",
       "    }\n",
       "\n",
       "    .dataframe tbody tr th {\n",
       "        vertical-align: top;\n",
       "    }\n",
       "\n",
       "    .dataframe thead th {\n",
       "        text-align: right;\n",
       "    }\n",
       "</style>\n",
       "<table border=\"1\" class=\"dataframe\">\n",
       "  <thead>\n",
       "    <tr style=\"text-align: right;\">\n",
       "      <th></th>\n",
       "      <th>reply</th>\n",
       "      <th>label</th>\n",
       "    </tr>\n",
       "  </thead>\n",
       "  <tbody>\n",
       "    <tr>\n",
       "      <th>0</th>\n",
       "      <td>Can we discuss pricing??</td>\n",
       "      <td>NEUTRAL</td>\n",
       "    </tr>\n",
       "    <tr>\n",
       "      <th>1</th>\n",
       "      <td>Im excited to explore this further, plz send c...</td>\n",
       "      <td>POSITIVE</td>\n",
       "    </tr>\n",
       "    <tr>\n",
       "      <th>2</th>\n",
       "      <td>We not looking for new solutions.</td>\n",
       "      <td>negative</td>\n",
       "    </tr>\n",
       "    <tr>\n",
       "      <th>3</th>\n",
       "      <td>Could u clarify features included?</td>\n",
       "      <td>neutral</td>\n",
       "    </tr>\n",
       "    <tr>\n",
       "      <th>4</th>\n",
       "      <td>lets,, schedule a meeting to dive deeper</td>\n",
       "      <td>positive</td>\n",
       "    </tr>\n",
       "  </tbody>\n",
       "</table>\n",
       "</div>"
      ],
      "text/plain": [
       "                                               reply     label\n",
       "0                           Can we discuss pricing??   NEUTRAL\n",
       "1  Im excited to explore this further, plz send c...  POSITIVE\n",
       "2                We not looking for new solutions.    negative\n",
       "3                 Could u clarify features included?   neutral\n",
       "4           lets,, schedule a meeting to dive deeper  positive"
      ]
     },
     "execution_count": 38,
     "metadata": {},
     "output_type": "execute_result"
    }
   ],
   "source": [
    "df = pd.read_csv('reply_classification_dataset.csv')\n",
    "df.head()"
   ]
  },
  {
   "cell_type": "code",
   "execution_count": 39,
   "id": "34f59762",
   "metadata": {},
   "outputs": [
    {
     "data": {
      "text/plain": [
       "array(['NEUTRAL', 'POSITIVE', 'negative', 'neutral', 'positive',\n",
       "       'NEGATIVE', 'Positive', 'Neutral', 'Negative'], dtype=object)"
      ]
     },
     "execution_count": 39,
     "metadata": {},
     "output_type": "execute_result"
    }
   ],
   "source": [
    "df['label'].unique()"
   ]
  },
  {
   "cell_type": "code",
   "execution_count": 40,
   "id": "92a2194a",
   "metadata": {},
   "outputs": [],
   "source": [
    "def func(label):\n",
    "    if label in ['NEUTRAL', 'neutral', 'Neutral']:\n",
    "        return 'neutral'\n",
    "    elif label in ['POSITIVE', 'positive', 'Positive']:\n",
    "        return 'positive'\n",
    "    else:\n",
    "        return 'negative'"
   ]
  },
  {
   "cell_type": "code",
   "execution_count": 41,
   "id": "7e925a10",
   "metadata": {},
   "outputs": [
    {
     "name": "stdout",
     "output_type": "stream",
     "text": [
      "['neutral' 'positive' 'negative']\n"
     ]
    }
   ],
   "source": [
    "df['label'] = df['label'].apply(func)\n",
    "print(df['label'].unique())"
   ]
  },
  {
   "cell_type": "code",
   "execution_count": 42,
   "id": "405bc173",
   "metadata": {},
   "outputs": [
    {
     "data": {
      "text/html": [
       "<div>\n",
       "<style scoped>\n",
       "    .dataframe tbody tr th:only-of-type {\n",
       "        vertical-align: middle;\n",
       "    }\n",
       "\n",
       "    .dataframe tbody tr th {\n",
       "        vertical-align: top;\n",
       "    }\n",
       "\n",
       "    .dataframe thead th {\n",
       "        text-align: right;\n",
       "    }\n",
       "</style>\n",
       "<table border=\"1\" class=\"dataframe\">\n",
       "  <thead>\n",
       "    <tr style=\"text-align: right;\">\n",
       "      <th></th>\n",
       "      <th>reply</th>\n",
       "      <th>label</th>\n",
       "    </tr>\n",
       "  </thead>\n",
       "  <tbody>\n",
       "    <tr>\n",
       "      <th>0</th>\n",
       "      <td>Can we discuss pricing??</td>\n",
       "      <td>neutral</td>\n",
       "    </tr>\n",
       "    <tr>\n",
       "      <th>1</th>\n",
       "      <td>Im excited to explore this further, plz send c...</td>\n",
       "      <td>positive</td>\n",
       "    </tr>\n",
       "    <tr>\n",
       "      <th>2</th>\n",
       "      <td>We not looking for new solutions.</td>\n",
       "      <td>negative</td>\n",
       "    </tr>\n",
       "    <tr>\n",
       "      <th>3</th>\n",
       "      <td>Could u clarify features included?</td>\n",
       "      <td>neutral</td>\n",
       "    </tr>\n",
       "    <tr>\n",
       "      <th>4</th>\n",
       "      <td>lets,, schedule a meeting to dive deeper</td>\n",
       "      <td>positive</td>\n",
       "    </tr>\n",
       "  </tbody>\n",
       "</table>\n",
       "</div>"
      ],
      "text/plain": [
       "                                               reply     label\n",
       "0                           Can we discuss pricing??   neutral\n",
       "1  Im excited to explore this further, plz send c...  positive\n",
       "2                We not looking for new solutions.    negative\n",
       "3                 Could u clarify features included?   neutral\n",
       "4           lets,, schedule a meeting to dive deeper  positive"
      ]
     },
     "execution_count": 42,
     "metadata": {},
     "output_type": "execute_result"
    }
   ],
   "source": [
    "df.head()"
   ]
  },
  {
   "cell_type": "code",
   "execution_count": 43,
   "id": "97eb79e1",
   "metadata": {},
   "outputs": [
    {
     "data": {
      "text/plain": [
       "reply    0\n",
       "label    0\n",
       "dtype: int64"
      ]
     },
     "execution_count": 43,
     "metadata": {},
     "output_type": "execute_result"
    }
   ],
   "source": [
    "df.isna().sum()"
   ]
  },
  {
   "cell_type": "code",
   "execution_count": 44,
   "id": "c0e5995b",
   "metadata": {},
   "outputs": [
    {
     "data": {
      "image/png": "[encoded data removed]",
      "text/plain": [
       "<Figure size 1200x600 with 1 Axes>"
      ]
     },
     "metadata": {},
     "output_type": "display_data"
    }
   ],
   "source": [
    "# Plotting the distribution of labels\n",
    "\n",
    "plt.figure(figsize=(12, 6))\n",
    "sns.set(style=\"whitegrid\")\n",
    "df['label'].value_counts().plot(kind = 'bar')\n",
    "plt.title('Distribution of labels')\n",
    "plt.xlabel('label')\n",
    "plt.ylabel('Count')\n",
    "plt.show()"
   ]
  },
  {
   "cell_type": "code",
   "execution_count": 45,
   "id": "ee911cc9",
   "metadata": {},
   "outputs": [
    {
     "data": {
      "text/plain": [
       "(2129, 2)"
      ]
     },
     "execution_count": 45,
     "metadata": {},
     "output_type": "execute_result"
    }
   ],
   "source": [
    "df.shape"
   ]
  },
  {
   "cell_type": "code",
   "execution_count": 47,
   "id": "460a88a8",
   "metadata": {},
   "outputs": [],
   "source": [
    "# Preprocessing for classic ML models\n",
    "\n",
    "stop_words = set(stopwords.words('english'))\n",
    "lemmatizer = WordNetLemmatizer()\n",
    "\n",
    "def preprocess_classic(text):\n",
    "    \"\"\"Preprocess the text by removing non-letters, converting to lowercase,\n",
    "    expanding contractions, removing stop words, and lemmatizing.\"\"\"\n",
    "    \n",
    "    # Lowercase\n",
    "    text = text.lower()\n",
    "    \n",
    "    # Expand contractions\n",
    "    text = contractions.fix(text)\n",
    "    \n",
    "    # Remove non-letters\n",
    "    text = re.sub(\"[^a-zA-Z]\", \" \", text)\n",
    "    \n",
    "    # Tokenize\n",
    "    words = word_tokenize(text)\n",
    "    \n",
    "    # Lemmatize + remove stopwords\n",
    "    cleaned_words = [lemmatizer.lemmatize(w) for w in words if w not in stop_words]\n",
    "    \n",
    "    return \" \".join(cleaned_words)\n"
   ]
  },
  {
   "cell_type": "code",
   "execution_count": 48,
   "id": "8f5238b6",
   "metadata": {},
   "outputs": [],
   "source": [
    "df['reply_clean'] = df['reply'].apply(preprocess_classic)"
   ]
  },
  {
   "cell_type": "code",
   "execution_count": 49,
   "id": "cf780c86",
   "metadata": {},
   "outputs": [
    {
     "data": {
      "text/html": [
       "<div>\n",
       "<style scoped>\n",
       "    .dataframe tbody tr th:only-of-type {\n",
       "        vertical-align: middle;\n",
       "    }\n",
       "\n",
       "    .dataframe tbody tr th {\n",
       "        vertical-align: top;\n",
       "    }\n",
       "\n",
       "    .dataframe thead th {\n",
       "        text-align: right;\n",
       "    }\n",
       "</style>\n",
       "<table border=\"1\" class=\"dataframe\">\n",
       "  <thead>\n",
       "    <tr style=\"text-align: right;\">\n",
       "      <th></th>\n",
       "      <th>reply</th>\n",
       "      <th>label</th>\n",
       "      <th>reply_clean</th>\n",
       "    </tr>\n",
       "  </thead>\n",
       "  <tbody>\n",
       "    <tr>\n",
       "      <th>0</th>\n",
       "      <td>Can we discuss pricing??</td>\n",
       "      <td>neutral</td>\n",
       "      <td>discus pricing</td>\n",
       "    </tr>\n",
       "    <tr>\n",
       "      <th>1</th>\n",
       "      <td>Im excited to explore this further, plz send c...</td>\n",
       "      <td>positive</td>\n",
       "      <td>excited explore plz send contract</td>\n",
       "    </tr>\n",
       "    <tr>\n",
       "      <th>2</th>\n",
       "      <td>We not looking for new solutions.</td>\n",
       "      <td>negative</td>\n",
       "      <td>looking new solution</td>\n",
       "    </tr>\n",
       "    <tr>\n",
       "      <th>3</th>\n",
       "      <td>Could u clarify features included?</td>\n",
       "      <td>neutral</td>\n",
       "      <td>could clarify feature included</td>\n",
       "    </tr>\n",
       "    <tr>\n",
       "      <th>4</th>\n",
       "      <td>lets,, schedule a meeting to dive deeper</td>\n",
       "      <td>positive</td>\n",
       "      <td>let u schedule meeting dive deeper</td>\n",
       "    </tr>\n",
       "  </tbody>\n",
       "</table>\n",
       "</div>"
      ],
      "text/plain": [
       "                                               reply     label  \\\n",
       "0                           Can we discuss pricing??   neutral   \n",
       "1  Im excited to explore this further, plz send c...  positive   \n",
       "2                We not looking for new solutions.    negative   \n",
       "3                 Could u clarify features included?   neutral   \n",
       "4           lets,, schedule a meeting to dive deeper  positive   \n",
       "\n",
       "                          reply_clean  \n",
       "0                      discus pricing  \n",
       "1   excited explore plz send contract  \n",
       "2                looking new solution  \n",
       "3      could clarify feature included  \n",
       "4  let u schedule meeting dive deeper  "
      ]
     },
     "execution_count": 49,
     "metadata": {},
     "output_type": "execute_result"
    }
   ],
   "source": [
    "df.head()"
   ]
  },
  {
   "cell_type": "code",
   "execution_count": 50,
   "id": "687bd9aa",
   "metadata": {},
   "outputs": [
    {
     "name": "stdout",
     "output_type": "stream",
     "text": [
      "Classes mapping: {'negative': np.int64(0), 'neutral': np.int64(1), 'positive': np.int64(2)}\n"
     ]
    }
   ],
   "source": [
    "# Initialize encoder\n",
    "le = LabelEncoder()\n",
    "\n",
    "# Fit on labels and transform\n",
    "y = le.fit_transform(df['label'])\n",
    "\n",
    "print(\"Classes mapping:\", dict(zip(le.classes_, le.transform(le.classes_))))\n"
   ]
  },
  {
   "cell_type": "code",
   "execution_count": 51,
   "id": "ab596d05",
   "metadata": {},
   "outputs": [
    {
     "data": {
      "text/plain": [
       "['label_encoder.pkl']"
      ]
     },
     "execution_count": 51,
     "metadata": {},
     "output_type": "execute_result"
    }
   ],
   "source": [
    "# 3. Save encoder for later use\n",
    "joblib.dump(le, \"label_encoder.pkl\")"
   ]
  },
  {
   "cell_type": "code",
   "execution_count": 52,
   "id": "a3c3500d",
   "metadata": {},
   "outputs": [],
   "source": [
    "df['label_encoded'] = y"
   ]
  },
  {
   "cell_type": "code",
   "execution_count": 53,
   "id": "90a73484",
   "metadata": {},
   "outputs": [
    {
     "data": {
      "text/html": [
       "<div>\n",
       "<style scoped>\n",
       "    .dataframe tbody tr th:only-of-type {\n",
       "        vertical-align: middle;\n",
       "    }\n",
       "\n",
       "    .dataframe tbody tr th {\n",
       "        vertical-align: top;\n",
       "    }\n",
       "\n",
       "    .dataframe thead th {\n",
       "        text-align: right;\n",
       "    }\n",
       "</style>\n",
       "<table border=\"1\" class=\"dataframe\">\n",
       "  <thead>\n",
       "    <tr style=\"text-align: right;\">\n",
       "      <th></th>\n",
       "      <th>reply</th>\n",
       "      <th>label</th>\n",
       "      <th>reply_clean</th>\n",
       "      <th>label_encoded</th>\n",
       "    </tr>\n",
       "  </thead>\n",
       "  <tbody>\n",
       "    <tr>\n",
       "      <th>0</th>\n",
       "      <td>Can we discuss pricing??</td>\n",
       "      <td>neutral</td>\n",
       "      <td>discus pricing</td>\n",
       "      <td>1</td>\n",
       "    </tr>\n",
       "    <tr>\n",
       "      <th>1</th>\n",
       "      <td>Im excited to explore this further, plz send c...</td>\n",
       "      <td>positive</td>\n",
       "      <td>excited explore plz send contract</td>\n",
       "      <td>2</td>\n",
       "    </tr>\n",
       "    <tr>\n",
       "      <th>2</th>\n",
       "      <td>We not looking for new solutions.</td>\n",
       "      <td>negative</td>\n",
       "      <td>looking new solution</td>\n",
       "      <td>0</td>\n",
       "    </tr>\n",
       "    <tr>\n",
       "      <th>3</th>\n",
       "      <td>Could u clarify features included?</td>\n",
       "      <td>neutral</td>\n",
       "      <td>could clarify feature included</td>\n",
       "      <td>1</td>\n",
       "    </tr>\n",
       "    <tr>\n",
       "      <th>4</th>\n",
       "      <td>lets,, schedule a meeting to dive deeper</td>\n",
       "      <td>positive</td>\n",
       "      <td>let u schedule meeting dive deeper</td>\n",
       "      <td>2</td>\n",
       "    </tr>\n",
       "  </tbody>\n",
       "</table>\n",
       "</div>"
      ],
      "text/plain": [
       "                                               reply     label  \\\n",
       "0                           Can we discuss pricing??   neutral   \n",
       "1  Im excited to explore this further, plz send c...  positive   \n",
       "2                We not looking for new solutions.    negative   \n",
       "3                 Could u clarify features included?   neutral   \n",
       "4           lets,, schedule a meeting to dive deeper  positive   \n",
       "\n",
       "                          reply_clean  label_encoded  \n",
       "0                      discus pricing              1  \n",
       "1   excited explore plz send contract              2  \n",
       "2                looking new solution              0  \n",
       "3      could clarify feature included              1  \n",
       "4  let u schedule meeting dive deeper              2  "
      ]
     },
     "execution_count": 53,
     "metadata": {},
     "output_type": "execute_result"
    }
   ],
   "source": [
    "df.head()"
   ]
  },
  {
   "cell_type": "code",
   "execution_count": 54,
   "id": "90b4e41f",
   "metadata": {},
   "outputs": [],
   "source": [
    "X = df['reply_clean']\n",
    "y = df['label_encoded']"
   ]
  },
  {
   "cell_type": "code",
   "execution_count": 55,
   "id": "90c1349f",
   "metadata": {},
   "outputs": [],
   "source": [
    "# 1. Train–test split\n",
    "X_train, X_test, y_train, y_test = train_test_split(\n",
    "    X, y, test_size=0.2, stratify=y, random_state=42\n",
    ")"
   ]
  },
  {
   "cell_type": "code",
   "execution_count": 56,
   "id": "e719685e",
   "metadata": {},
   "outputs": [],
   "source": [
    "def vectorize_train_test(X_train, X_test, method='tfidf'):\n",
    "    if method == 'bow':\n",
    "        vectorizer = CountVectorizer()\n",
    "    elif method == 'tfidf':\n",
    "        vectorizer = TfidfVectorizer()\n",
    "    else:\n",
    "        raise ValueError(\"Method must be either 'bow' or 'tfidf'\")\n",
    "    \n",
    "    X_train_vec = vectorizer.fit_transform(X_train)\n",
    "    X_test_vec = vectorizer.transform(X_test)\n",
    "    return X_train_vec, X_test_vec, vectorizer\n"
   ]
  },
  {
   "cell_type": "code",
   "execution_count": 57,
   "id": "030f348c",
   "metadata": {},
   "outputs": [],
   "source": [
    "# TF-IDF\n",
    "X_train_vec, X_test_vec, vec = vectorize_train_test(X_train, X_test, method='tfidf')"
   ]
  }
 ],
 "metadata": {
  "kernelspec": {
   "display_name": "asess_venv",
   "language": "python",
   "name": "python3"
  },
  "language_info": {
   "codemirror_mode": {
    "name": "ipython",
    "version": 3
   },
   "file_extension": ".py",
   "mimetype": "text/x-python",
   "name": "python",
   "nbconvert_exporter": "python",
   "pygments_lexer": "ipython3",
   "version": "3.9.6"
  }
 },
 "nbformat": 4,
 "nbformat_minor": 5
}
